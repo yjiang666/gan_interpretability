{
  "nbformat": 4,
  "nbformat_minor": 0,
  "metadata": {
    "accelerator": "GPU",
    "colab": {
      "name": "GAN_Latent_Space_Interpretability_Evaluation_Notebook.ipynb",
      "provenance": [],
      "collapsed_sections": []
    },
    "kernelspec": {
      "display_name": "Python 3",
      "language": "python",
      "name": "python3"
    },
    "language_info": {
      "codemirror_mode": {
        "name": "ipython",
        "version": 3
      },
      "file_extension": ".py",
      "mimetype": "text/x-python",
      "name": "python",
      "nbconvert_exporter": "python",
      "pygments_lexer": "ipython3",
      "version": "3.7.6"
    }
  },
  "cells": [
    {
      "cell_type": "markdown",
      "metadata": {
        "id": "XeY3G_VFevvu"
      },
      "source": [
        "#Evaluation of directions discovered\n",
        "\n",
        "## Stage 1. Preparation\n",
        "\n",
        "\n",
        "*   Cloning Repo\n",
        "*   Installing Dependencies\n",
        "*   Downloading pretrained models\n",
        "\n"
      ]
    },
    {
      "cell_type": "code",
      "metadata": {
        "colab": {
          "base_uri": "https://localhost:8080/"
        },
        "id": "K1bA3VWnaE4a",
        "outputId": "7edcd532-4850-4ff6-8396-46c007dc314b"
      },
      "source": [
        "!git clone https://github.com/yjiang666/gan_interpretability.git repo\n",
        "%cd repo/\n",
        "\n",
        "!pip3 install -r requirements.txt\n",
        "!pip install ninja\n",
        "\n",
        "%tensorflow_version 1.x"
      ],
      "execution_count": 1,
      "outputs": [
        {
          "output_type": "stream",
          "text": [
            "fatal: destination path 'repo' already exists and is not an empty directory.\n",
            "/content/repo\n",
            "Requirement already satisfied: tqdm==4.32.1 in /usr/local/lib/python3.7/dist-packages (from -r requirements.txt (line 1)) (4.32.1)\n",
            "Requirement already satisfied: Pillow==7.0.0 in /usr/local/lib/python3.7/dist-packages (from -r requirements.txt (line 2)) (7.0.0)\n",
            "Requirement already satisfied: tensorboardX==2.0 in /usr/local/lib/python3.7/dist-packages (from -r requirements.txt (line 3)) (2.0)\n",
            "Requirement already satisfied: protobuf>=3.8.0 in /usr/local/lib/python3.7/dist-packages (from tensorboardX==2.0->-r requirements.txt (line 3)) (3.17.3)\n",
            "Requirement already satisfied: six in /usr/local/lib/python3.7/dist-packages (from tensorboardX==2.0->-r requirements.txt (line 3)) (1.15.0)\n",
            "Requirement already satisfied: numpy in /usr/local/lib/python3.7/dist-packages (from tensorboardX==2.0->-r requirements.txt (line 3)) (1.19.5)\n",
            "Requirement already satisfied: ninja in /usr/local/lib/python3.7/dist-packages (1.10.2)\n",
            "TensorFlow 1.x selected.\n"
          ],
          "name": "stdout"
        }
      ]
    },
    {
      "cell_type": "code",
      "metadata": {
        "colab": {
          "base_uri": "https://localhost:8080/"
        },
        "id": "xYyLjIpTajPG",
        "outputId": "a5dd8e98-eea8-48e2-ce35-2fe7d2a88a40"
      },
      "source": [
        "!python download.py\n",
        "!python loading.py"
      ],
      "execution_count": 2,
      "outputs": [
        {
          "output_type": "stream",
          "text": [
            "downloading stylegan2\n",
            "from https://www.dropbox.com/s/vtygvy0xiw4uvmd/pretrained_stylegan2_ffhq_256_id_24_lpips_5.tar\n",
            "--2021-08-16 06:43:28--  https://www.dropbox.com/s/vtygvy0xiw4uvmd/pretrained_stylegan2_ffhq_256_id_24_lpips_5.tar\n",
            "Resolving www.dropbox.com (www.dropbox.com)... 162.125.4.18, 2620:100:6021:18::a27d:4112\n",
            "Connecting to www.dropbox.com (www.dropbox.com)|162.125.4.18|:443... connected.\n",
            "HTTP request sent, awaiting response... 301 Moved Permanently\n",
            "Location: /s/raw/vtygvy0xiw4uvmd/pretrained_stylegan2_ffhq_256_id_24_lpips_5.tar [following]\n",
            "--2021-08-16 06:43:29--  https://www.dropbox.com/s/raw/vtygvy0xiw4uvmd/pretrained_stylegan2_ffhq_256_id_24_lpips_5.tar\n",
            "Reusing existing connection to www.dropbox.com:443.\n",
            "HTTP request sent, awaiting response... 302 Found\n",
            "Location: https://uc896972c61e14c8be0868f99e86.dl.dropboxusercontent.com/cd/0/inline/BUUR39_LnYHRSWflo_n8NC917HwCmPeoSwwtj9RICQO0S3tnmGBAYNyZYD64OQ6VdN225ugLFB_jAS35ca0fZIGK0YobgBgZnJ0kjSn0xoUywreVSsOMksNy_pYPbfo8Ggv9L2Il5FWEmqLGvuuCwlm6/file# [following]\n",
            "--2021-08-16 06:43:29--  https://uc896972c61e14c8be0868f99e86.dl.dropboxusercontent.com/cd/0/inline/BUUR39_LnYHRSWflo_n8NC917HwCmPeoSwwtj9RICQO0S3tnmGBAYNyZYD64OQ6VdN225ugLFB_jAS35ca0fZIGK0YobgBgZnJ0kjSn0xoUywreVSsOMksNy_pYPbfo8Ggv9L2Il5FWEmqLGvuuCwlm6/file\n",
            "Resolving uc896972c61e14c8be0868f99e86.dl.dropboxusercontent.com (uc896972c61e14c8be0868f99e86.dl.dropboxusercontent.com)... 162.125.66.15, 2620:100:6027:15::a27d:480f\n",
            "Connecting to uc896972c61e14c8be0868f99e86.dl.dropboxusercontent.com (uc896972c61e14c8be0868f99e86.dl.dropboxusercontent.com)|162.125.66.15|:443... connected.\n",
            "HTTP request sent, awaiting response... 302 Found\n",
            "Location: /cd/0/inline2/BUXHEUKZpZQdFMdb0fUjgBab9ThuxQgi8diPA0zORtoU1BDTm0Md_BWA0He2o84UInWOK_teqA6JAV43uuEqOwtMvIskiossUQs2c4-eBbLqK_h210XI3SrdnKxz4AHO0SCap1HJntVshK8NScijWPScbmDNscnQzqx6J9Yt1YDnQy3i_oBxMTtDuNF4SAfdGgSJ6Rh-S-QKnuCi_iuUJaqpW_VOL8cZ6qVU3SncdcM4pwVolFAvpXQ5wNqHXsarKfZwIGWlRD8oVlm_GSoE-NV7yXJdwYbei6Ozbvy6JfLkZwOgiydyTrPy0292wsltMNX7iVV6J3dXe6F_B7qAjkfHz7vgynzcZBnzt07gJO1h-s2VJWEQy3ObyHLkRqGLLgQ/file [following]\n",
            "--2021-08-16 06:43:29--  https://uc896972c61e14c8be0868f99e86.dl.dropboxusercontent.com/cd/0/inline2/BUXHEUKZpZQdFMdb0fUjgBab9ThuxQgi8diPA0zORtoU1BDTm0Md_BWA0He2o84UInWOK_teqA6JAV43uuEqOwtMvIskiossUQs2c4-eBbLqK_h210XI3SrdnKxz4AHO0SCap1HJntVshK8NScijWPScbmDNscnQzqx6J9Yt1YDnQy3i_oBxMTtDuNF4SAfdGgSJ6Rh-S-QKnuCi_iuUJaqpW_VOL8cZ6qVU3SncdcM4pwVolFAvpXQ5wNqHXsarKfZwIGWlRD8oVlm_GSoE-NV7yXJdwYbei6Ozbvy6JfLkZwOgiydyTrPy0292wsltMNX7iVV6J3dXe6F_B7qAjkfHz7vgynzcZBnzt07gJO1h-s2VJWEQy3ObyHLkRqGLLgQ/file\n",
            "Reusing existing connection to uc896972c61e14c8be0868f99e86.dl.dropboxusercontent.com:443.\n",
            "HTTP request sent, awaiting response... 200 OK\n",
            "Length: 275264512 (263M) [application/x-tar]\n",
            "Saving to: ‘/content/repo/models/.tmp.tar’\n",
            "\n",
            "/content/repo/model 100%[===================>] 262.51M  15.9MB/s    in 19s     \n",
            "\n",
            "2021-08-16 06:43:49 (13.8 MB/s) - ‘/content/repo/models/.tmp.tar’ saved [275264512/275264512]\n",
            "\n"
          ],
          "name": "stdout"
        }
      ]
    },
    {
      "cell_type": "code",
      "metadata": {
        "colab": {
          "base_uri": "https://localhost:8080/"
        },
        "id": "uySIP3xZar7I",
        "outputId": "e941fdb7-d77a-4a8e-c24c-f1f17cf26cc3"
      },
      "source": [
        "ptfiles = []\n",
        "import os\n",
        "for dirpath, subdirs, files in os.walk(\"/content/repo/\"):\n",
        "    for x in files:\n",
        "        if x.endswith(\".pt\"):\n",
        "            ptfiles.append(os.path.join(dirpath, x))\n",
        "print(ptfiles)            "
      ],
      "execution_count": 3,
      "outputs": [
        {
          "output_type": "stream",
          "text": [
            "['/content/repo/models/pretrained/deformators/StyleGAN2/models/deformator_30000.pt', '/content/repo/models/pretrained/generators/StyleGAN2/ffhq-256-config-e-003810.pt']\n"
          ],
          "name": "stdout"
        }
      ]
    },
    {
      "cell_type": "code",
      "metadata": {
        "colab": {
          "base_uri": "https://localhost:8080/"
        },
        "id": "PBoQiC8yo8Rv",
        "outputId": "a254e5ff-739d-4268-d3b3-99923b2076fa"
      },
      "source": [
        "%cd /content/repo/\n",
        "%load_ext autoreload\n",
        "%autoreload 2\n",
        "\n",
        "import torch\n",
        "from matplotlib import pyplot as plt\n",
        "from torchvision.utils import make_grid\n",
        "from torch_tools.visualization import to_image\n",
        "from visualization import interpolate\n",
        "from loading import load_from_dir\n",
        "%matplotlib inline\n",
        "import dnnlib.tflib as tflib\n",
        "\n",
        "tflib.init_tf()"
      ],
      "execution_count": 4,
      "outputs": [
        {
          "output_type": "stream",
          "text": [
            "/content/repo\n"
          ],
          "name": "stdout"
        }
      ]
    },
    {
      "cell_type": "markdown",
      "metadata": {
        "id": "f2oMY4cKtUYE"
      },
      "source": [
        "##Stage 2. Evaluation\n",
        "\n",
        "\n",
        "\n",
        "*   Loading models\n",
        "*   Generating GIFs for all directions\n",
        "\n"
      ]
    },
    {
      "cell_type": "code",
      "metadata": {
        "id": "hd7dc8M1aCpn"
      },
      "source": [
        "deformator, G, shift_predictor = load_from_dir(\n",
        "    '/content/repo/models/pretrained/deformators/StyleGAN2/',\n",
        "    G_weights='/content/repo/models/pretrained/generators/StyleGAN2/ffhq-256-config-e-003810.pt')\n"
      ],
      "execution_count": 5,
      "outputs": []
    },
    {
      "cell_type": "code",
      "metadata": {
        "colab": {
          "base_uri": "https://localhost:8080/"
        },
        "id": "NViRj_SrQwfh",
        "outputId": "50ddd160-6666-4fd0-e831-5f161e690aff"
      },
      "source": [
        "!pip install Pillow"
      ],
      "execution_count": 6,
      "outputs": [
        {
          "output_type": "stream",
          "text": [
            "Requirement already satisfied: Pillow in /usr/local/lib/python3.7/dist-packages (7.0.0)\n"
          ],
          "name": "stdout"
        }
      ]
    },
    {
      "cell_type": "code",
      "metadata": {
        "id": "dyw42XuGaCpy"
      },
      "source": [
        "from utils import is_conditional\n",
        "import numpy as np\n",
        "from PIL.Image import Image\n",
        "import PIL.Image\n",
        "from matplotlib.pyplot import imshow\n",
        "\n",
        "dir_count = 30\n",
        "id_loss = 22\n",
        "lpip_loss = 3\n",
        "\n",
        "RESULT_PATH = '../drive/MyDrive/GAN_Latent_Space_Output_Gifs/dir_%s_id_%s_lpips_%s' % (dir_count, str(id_loss), str(lpip_loss))"
      ],
      "execution_count": 7,
      "outputs": []
    },
    {
      "cell_type": "code",
      "metadata": {
        "id": "WkD0FEJ80aPO"
      },
      "source": [
        "def get_gif_for_dim(G, deformator, inspection_dir, RESULT_PATH):\n",
        "    rows = 8\n",
        "    gifs = []\n",
        "    zs = torch.randn([rows, G.dim_z] if type(G.dim_z) == int else [rows] + G.dim_z, device='cuda')\n",
        "    plt.figure(figsize=(5, rows), dpi=250)\n",
        "    intpls = []\n",
        "    for z, i in zip(zs, range(rows)):\n",
        "        interpolation_deformed = interpolate(G, z.unsqueeze(0),\n",
        "                                             shifts_r=16,\n",
        "                                             shifts_count=3,\n",
        "                                             dim=inspection_dir,\n",
        "                                             deformator=deformator,\n",
        "                                             with_central_border=True)\n",
        "        frames = []\n",
        "        intpls.append(interpolation_deformed)\n",
        "        for item in interpolation_deformed:\n",
        "            grid = make_grid(item, nrow=11, padding=1, pad_value=0)\n",
        "            grid = torch.clamp(grid, -1, 1)\n",
        "            image_grid = to_image(grid)\n",
        "            frames.append(image_grid)\n",
        "        gifs.append(frames)\n",
        "\n",
        "    os.makedirs(RESULT_PATH, exist_ok=True)\n",
        "    output_path = os.path.join(RESULT_PATH, \"inspect_dir_%s.gif\" % str(inspection_dir))\n",
        "\n",
        "    frame_first = [[] for x in range(rows-1)]\n",
        "    for index, gif in enumerate(gifs):\n",
        "        for fnum, frame in enumerate(gif):\n",
        "            frame_first[fnum].append(frame)\n",
        "    frame_first_gifs = []\n",
        "    for i, item in enumerate(frame_first):\n",
        "        widths, heights = zip(*(i.size for i in item))\n",
        "        total_width = sum(widths)\n",
        "        max_height = max(heights)\n",
        "        new_im = PIL.Image.new('RGB', (total_width, max_height))\n",
        "        x_offset = 0\n",
        "        for im in item:\n",
        "            new_im.paste(im, (x_offset, 0))\n",
        "            x_offset += im.size[0]\n",
        "        frame_first_gifs.append(new_im)\n",
        "\n",
        "    frame_first_gifs[0].save(output_path, format='GIF', append_images=frame_first_gifs[1:], save_all=True,\n",
        "                             duration=600, loop=0)\n",
        "    print(\"Saving gif to %s\" % output_path)"
      ],
      "execution_count": 8,
      "outputs": []
    },
    {
      "cell_type": "code",
      "metadata": {
        "colab": {
          "base_uri": "https://localhost:8080/",
          "height": 1000
        },
        "id": "OzFLdEeIsRs_",
        "outputId": "dfab3777-6396-4ba4-db8a-de9c84e63692"
      },
      "source": [
        "if is_conditional(G):\n",
        "    G.set_classes(12)\n",
        "\n",
        "for i in range(dir_count):\n",
        "    get_gif_for_dim(G, deformator, i, RESULT_PATH)"
      ],
      "execution_count": 9,
      "outputs": [
        {
          "output_type": "stream",
          "text": [
            "Saving gif to ../drive/MyDrive/GAN_Latent_Space_Output_Gifs/dir_30_id_22_lpips_3/inspect_dir_0.gif\n",
            "Saving gif to ../drive/MyDrive/GAN_Latent_Space_Output_Gifs/dir_30_id_22_lpips_3/inspect_dir_1.gif\n",
            "Saving gif to ../drive/MyDrive/GAN_Latent_Space_Output_Gifs/dir_30_id_22_lpips_3/inspect_dir_2.gif\n",
            "Saving gif to ../drive/MyDrive/GAN_Latent_Space_Output_Gifs/dir_30_id_22_lpips_3/inspect_dir_3.gif\n",
            "Saving gif to ../drive/MyDrive/GAN_Latent_Space_Output_Gifs/dir_30_id_22_lpips_3/inspect_dir_4.gif\n",
            "Saving gif to ../drive/MyDrive/GAN_Latent_Space_Output_Gifs/dir_30_id_22_lpips_3/inspect_dir_5.gif\n",
            "Saving gif to ../drive/MyDrive/GAN_Latent_Space_Output_Gifs/dir_30_id_22_lpips_3/inspect_dir_6.gif\n",
            "Saving gif to ../drive/MyDrive/GAN_Latent_Space_Output_Gifs/dir_30_id_22_lpips_3/inspect_dir_7.gif\n",
            "Saving gif to ../drive/MyDrive/GAN_Latent_Space_Output_Gifs/dir_30_id_22_lpips_3/inspect_dir_8.gif\n",
            "Saving gif to ../drive/MyDrive/GAN_Latent_Space_Output_Gifs/dir_30_id_22_lpips_3/inspect_dir_9.gif\n",
            "Saving gif to ../drive/MyDrive/GAN_Latent_Space_Output_Gifs/dir_30_id_22_lpips_3/inspect_dir_10.gif\n",
            "Saving gif to ../drive/MyDrive/GAN_Latent_Space_Output_Gifs/dir_30_id_22_lpips_3/inspect_dir_11.gif\n",
            "Saving gif to ../drive/MyDrive/GAN_Latent_Space_Output_Gifs/dir_30_id_22_lpips_3/inspect_dir_12.gif\n",
            "Saving gif to ../drive/MyDrive/GAN_Latent_Space_Output_Gifs/dir_30_id_22_lpips_3/inspect_dir_13.gif\n",
            "Saving gif to ../drive/MyDrive/GAN_Latent_Space_Output_Gifs/dir_30_id_22_lpips_3/inspect_dir_14.gif\n",
            "Saving gif to ../drive/MyDrive/GAN_Latent_Space_Output_Gifs/dir_30_id_22_lpips_3/inspect_dir_15.gif\n",
            "Saving gif to ../drive/MyDrive/GAN_Latent_Space_Output_Gifs/dir_30_id_22_lpips_3/inspect_dir_16.gif\n",
            "Saving gif to ../drive/MyDrive/GAN_Latent_Space_Output_Gifs/dir_30_id_22_lpips_3/inspect_dir_17.gif\n",
            "Saving gif to ../drive/MyDrive/GAN_Latent_Space_Output_Gifs/dir_30_id_22_lpips_3/inspect_dir_18.gif\n",
            "Saving gif to ../drive/MyDrive/GAN_Latent_Space_Output_Gifs/dir_30_id_22_lpips_3/inspect_dir_19.gif\n"
          ],
          "name": "stdout"
        },
        {
          "output_type": "stream",
          "text": [
            "/usr/local/lib/python3.7/dist-packages/ipykernel_launcher.py:5: RuntimeWarning: More than 20 figures have been opened. Figures created through the pyplot interface (`matplotlib.pyplot.figure`) are retained until explicitly closed and may consume too much memory. (To control this warning, see the rcParam `figure.max_open_warning`).\n",
            "  \"\"\"\n"
          ],
          "name": "stderr"
        },
        {
          "output_type": "stream",
          "text": [
            "Saving gif to ../drive/MyDrive/GAN_Latent_Space_Output_Gifs/dir_30_id_22_lpips_3/inspect_dir_20.gif\n",
            "Saving gif to ../drive/MyDrive/GAN_Latent_Space_Output_Gifs/dir_30_id_22_lpips_3/inspect_dir_21.gif\n",
            "Saving gif to ../drive/MyDrive/GAN_Latent_Space_Output_Gifs/dir_30_id_22_lpips_3/inspect_dir_22.gif\n",
            "Saving gif to ../drive/MyDrive/GAN_Latent_Space_Output_Gifs/dir_30_id_22_lpips_3/inspect_dir_23.gif\n",
            "Saving gif to ../drive/MyDrive/GAN_Latent_Space_Output_Gifs/dir_30_id_22_lpips_3/inspect_dir_24.gif\n",
            "Saving gif to ../drive/MyDrive/GAN_Latent_Space_Output_Gifs/dir_30_id_22_lpips_3/inspect_dir_25.gif\n",
            "Saving gif to ../drive/MyDrive/GAN_Latent_Space_Output_Gifs/dir_30_id_22_lpips_3/inspect_dir_26.gif\n",
            "Saving gif to ../drive/MyDrive/GAN_Latent_Space_Output_Gifs/dir_30_id_22_lpips_3/inspect_dir_27.gif\n",
            "Saving gif to ../drive/MyDrive/GAN_Latent_Space_Output_Gifs/dir_30_id_22_lpips_3/inspect_dir_28.gif\n",
            "Saving gif to ../drive/MyDrive/GAN_Latent_Space_Output_Gifs/dir_30_id_22_lpips_3/inspect_dir_29.gif\n"
          ],
          "name": "stdout"
        },
        {
          "output_type": "display_data",
          "data": {
            "text/plain": [
              "<Figure size 1250x2000 with 0 Axes>"
            ]
          },
          "metadata": {
            "tags": []
          }
        },
        {
          "output_type": "display_data",
          "data": {
            "text/plain": [
              "<Figure size 1250x2000 with 0 Axes>"
            ]
          },
          "metadata": {
            "tags": []
          }
        },
        {
          "output_type": "display_data",
          "data": {
            "text/plain": [
              "<Figure size 1250x2000 with 0 Axes>"
            ]
          },
          "metadata": {
            "tags": []
          }
        },
        {
          "output_type": "display_data",
          "data": {
            "text/plain": [
              "<Figure size 1250x2000 with 0 Axes>"
            ]
          },
          "metadata": {
            "tags": []
          }
        },
        {
          "output_type": "display_data",
          "data": {
            "text/plain": [
              "<Figure size 1250x2000 with 0 Axes>"
            ]
          },
          "metadata": {
            "tags": []
          }
        },
        {
          "output_type": "display_data",
          "data": {
            "text/plain": [
              "<Figure size 1250x2000 with 0 Axes>"
            ]
          },
          "metadata": {
            "tags": []
          }
        },
        {
          "output_type": "display_data",
          "data": {
            "text/plain": [
              "<Figure size 1250x2000 with 0 Axes>"
            ]
          },
          "metadata": {
            "tags": []
          }
        },
        {
          "output_type": "display_data",
          "data": {
            "text/plain": [
              "<Figure size 1250x2000 with 0 Axes>"
            ]
          },
          "metadata": {
            "tags": []
          }
        },
        {
          "output_type": "display_data",
          "data": {
            "text/plain": [
              "<Figure size 1250x2000 with 0 Axes>"
            ]
          },
          "metadata": {
            "tags": []
          }
        },
        {
          "output_type": "display_data",
          "data": {
            "text/plain": [
              "<Figure size 1250x2000 with 0 Axes>"
            ]
          },
          "metadata": {
            "tags": []
          }
        },
        {
          "output_type": "display_data",
          "data": {
            "text/plain": [
              "<Figure size 1250x2000 with 0 Axes>"
            ]
          },
          "metadata": {
            "tags": []
          }
        },
        {
          "output_type": "display_data",
          "data": {
            "text/plain": [
              "<Figure size 1250x2000 with 0 Axes>"
            ]
          },
          "metadata": {
            "tags": []
          }
        },
        {
          "output_type": "display_data",
          "data": {
            "text/plain": [
              "<Figure size 1250x2000 with 0 Axes>"
            ]
          },
          "metadata": {
            "tags": []
          }
        },
        {
          "output_type": "display_data",
          "data": {
            "text/plain": [
              "<Figure size 1250x2000 with 0 Axes>"
            ]
          },
          "metadata": {
            "tags": []
          }
        },
        {
          "output_type": "display_data",
          "data": {
            "text/plain": [
              "<Figure size 1250x2000 with 0 Axes>"
            ]
          },
          "metadata": {
            "tags": []
          }
        },
        {
          "output_type": "display_data",
          "data": {
            "text/plain": [
              "<Figure size 1250x2000 with 0 Axes>"
            ]
          },
          "metadata": {
            "tags": []
          }
        },
        {
          "output_type": "display_data",
          "data": {
            "text/plain": [
              "<Figure size 1250x2000 with 0 Axes>"
            ]
          },
          "metadata": {
            "tags": []
          }
        },
        {
          "output_type": "display_data",
          "data": {
            "text/plain": [
              "<Figure size 1250x2000 with 0 Axes>"
            ]
          },
          "metadata": {
            "tags": []
          }
        },
        {
          "output_type": "display_data",
          "data": {
            "text/plain": [
              "<Figure size 1250x2000 with 0 Axes>"
            ]
          },
          "metadata": {
            "tags": []
          }
        },
        {
          "output_type": "display_data",
          "data": {
            "text/plain": [
              "<Figure size 1250x2000 with 0 Axes>"
            ]
          },
          "metadata": {
            "tags": []
          }
        },
        {
          "output_type": "display_data",
          "data": {
            "text/plain": [
              "<Figure size 1250x2000 with 0 Axes>"
            ]
          },
          "metadata": {
            "tags": []
          }
        },
        {
          "output_type": "display_data",
          "data": {
            "text/plain": [
              "<Figure size 1250x2000 with 0 Axes>"
            ]
          },
          "metadata": {
            "tags": []
          }
        },
        {
          "output_type": "display_data",
          "data": {
            "text/plain": [
              "<Figure size 1250x2000 with 0 Axes>"
            ]
          },
          "metadata": {
            "tags": []
          }
        },
        {
          "output_type": "display_data",
          "data": {
            "text/plain": [
              "<Figure size 1250x2000 with 0 Axes>"
            ]
          },
          "metadata": {
            "tags": []
          }
        },
        {
          "output_type": "display_data",
          "data": {
            "text/plain": [
              "<Figure size 1250x2000 with 0 Axes>"
            ]
          },
          "metadata": {
            "tags": []
          }
        },
        {
          "output_type": "display_data",
          "data": {
            "text/plain": [
              "<Figure size 1250x2000 with 0 Axes>"
            ]
          },
          "metadata": {
            "tags": []
          }
        },
        {
          "output_type": "display_data",
          "data": {
            "text/plain": [
              "<Figure size 1250x2000 with 0 Axes>"
            ]
          },
          "metadata": {
            "tags": []
          }
        },
        {
          "output_type": "display_data",
          "data": {
            "text/plain": [
              "<Figure size 1250x2000 with 0 Axes>"
            ]
          },
          "metadata": {
            "tags": []
          }
        },
        {
          "output_type": "display_data",
          "data": {
            "text/plain": [
              "<Figure size 1250x2000 with 0 Axes>"
            ]
          },
          "metadata": {
            "tags": []
          }
        },
        {
          "output_type": "display_data",
          "data": {
            "text/plain": [
              "<Figure size 1250x2000 with 0 Axes>"
            ]
          },
          "metadata": {
            "tags": []
          }
        }
      ]
    }
  ]
}